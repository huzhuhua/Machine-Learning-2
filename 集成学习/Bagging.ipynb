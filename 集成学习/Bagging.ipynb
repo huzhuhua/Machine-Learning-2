{
 "cells": [
  {
   "cell_type": "code",
   "execution_count": 1,
   "metadata": {},
   "outputs": [],
   "source": [
    "import numpy as np\n",
    "from sklearn.datasets import make_classification\n",
    "from sklearn.tree import DecisionTreeClassifier\n",
    "import matplotlib.pyplot as plt\n",
    "from sklearn.model_selection import train_test_split\n",
    "import threading\n",
    "import queue\n",
    "%matplotlib inline"
   ]
  },
  {
   "cell_type": "code",
   "execution_count": 2,
   "metadata": {},
   "outputs": [
    {
     "name": "stdout",
     "output_type": "stream",
     "text": [
      "(2000, 20) (2000,)\n"
     ]
    }
   ],
   "source": [
    "x, y = make_classification(n_samples=2000, n_features=20, n_informative=14,\n",
    "                                        n_redundant=4, n_repeated=2, n_clusters_per_class=2,\n",
    "                                        n_classes=2, random_state=2018)\n",
    "print(x.shape, y.shape)"
   ]
  },
  {
   "cell_type": "code",
   "execution_count": 60,
   "metadata": {},
   "outputs": [],
   "source": [
    "def base_learn(x, y, index, learner='tree'):\n",
    "    data = boostrap(x, y, size=x.shape[0])\n",
    "    # get the data from dictionary\n",
    "    train_x, train_y = data['train_x'], data['train_y']\n",
    "    out_of_bag_x, out_of_bag_y = data['out_of_bag_x'], data['out_of_bag_y']\n",
    "    if learner == 'tree':\n",
    "        clf = DecisionTreeClassifier(max_depth=5, min_samples_leaf=5)\n",
    "    else:\n",
    "        clf = learner\n",
    "    clf.fit(train_x, train_y)\n",
    "    train_pre = clf.predict(train_x)\n",
    "    out_of_bag_pre = clf.predict(out_of_bag_x)\n",
    "    print(index, \": train_acc: {0:.2f}, test_acc: {1:.2f}\".format(np.mean((train_pre==train_y).astype(np.float32)),\n",
    "                                                              np.mean((out_of_bag_pre==out_of_bag_y).astype(np.float32))))\n",
    "    global q\n",
    "    q.put(clf)\n",
    "    return clf"
   ]
  },
  {
   "cell_type": "code",
   "execution_count": 4,
   "metadata": {},
   "outputs": [],
   "source": [
    "def boostrap(x, y, size):\n",
    "    m = x.shape[0]\n",
    "    \n",
    "    index = np.random.choice(m, size, replace=True)\n",
    "    train_x = x[index, :]\n",
    "    train_y = y[index]\n",
    "    # the data not be choosen\n",
    "    out_of_bag = list(set(range(m)) - set(index))\n",
    "    out_of_bag_x = x[out_of_bag, :]\n",
    "    out_of_bag_y = y[out_of_bag]\n",
    "    \n",
    "    data = {}\n",
    "    data['train_x'] = train_x\n",
    "    data['train_y'] = train_y\n",
    "    data['out_of_bag_x'] = out_of_bag_x\n",
    "    data['out_of_bag_y'] = out_of_bag_y\n",
    "    return data"
   ]
  },
  {
   "cell_type": "code",
   "execution_count": 53,
   "metadata": {},
   "outputs": [],
   "source": [
    "def vote(clfs, x):\n",
    "    res = 0\n",
    "    for tree in clfs:\n",
    "        pre =  tree.predict(x)\n",
    "        res += pre     \n",
    "    \n",
    "    criteria = len(clfs)/2\n",
    "    res = np.where(res>=criteria, 1, 0)\n",
    "    return res"
   ]
  },
  {
   "cell_type": "code",
   "execution_count": 6,
   "metadata": {},
   "outputs": [],
   "source": [
    "class myThread(threading.Thread):\n",
    "    def __init__(self,func,args=()):\n",
    "        super(myThread,self).__init__()\n",
    "        self.func = func\n",
    "        self.args = args\n",
    "\n",
    "    def run(self):\n",
    "        self.func(*self.args)"
   ]
  },
  {
   "cell_type": "code",
   "execution_count": 64,
   "metadata": {},
   "outputs": [],
   "source": [
    "def bagging(x, y, test_size=0.7, n_learner=3, random_state=2018):\n",
    "    train_x, test_x, train_y, test_y = train_test_split(x, y, test_size=test_size, random_state=random_state)\n",
    "    np.random.seed(random_state)\n",
    "    \n",
    "    clfs = []\n",
    "    threads = []\n",
    "    for i in range(n_learner):\n",
    "        t = myThread(base_learn, args=(x, y, i))\n",
    "        threads.append(t)\n",
    "    for i in range(n_learner):\n",
    "        threads[i].start()\n",
    "    for i in range(n_learner):\n",
    "        threads[i].join()\n",
    "    while not q.empty():\n",
    "        clf = q.get()\n",
    "        clfs.append(clf)\n",
    "    \"\"\"\n",
    "    tree = base_learn(train_x, train_y, 1)\n",
    "    clfs.append(tree)\n",
    "    tree = base_learn(train_x, train_y, 2)\n",
    "    clfs.append(tree)\n",
    "    tree = base_learn(train_x, train_y, 3)\n",
    "    clfs.append(tree)\n",
    "    \"\"\"\n",
    "    train_pred = vote(clfs, train_x)\n",
    "    print(\"-\"*20, \"\\ntrain acc: {:.2f}\".format(np.mean((train_pred==train_y).astype(np.float32))))\n",
    "    test_pred = vote(clfs, test_x)\n",
    "    print(\"test acc: {:.2f}\".format(np.mean((test_pred==test_y).astype(np.float32))), \"\\n\", \"-\"*20)\n",
    "    \n",
    "    return clfs"
   ]
  },
  {
   "cell_type": "code",
   "execution_count": 65,
   "metadata": {},
   "outputs": [
    {
     "name": "stdout",
     "output_type": "stream",
     "text": [
      "1 : train_acc: 0.90, test_acc: 0.81\n",
      "0 : train_acc: 0.91, test_acc: 0.80\n",
      "2 : train_acc: 0.90, test_acc: 0.82\n",
      "-------------------- \n",
      "train acc: 0.93\n",
      "test acc: 0.88 \n",
      " --------------------\n"
     ]
    },
    {
     "data": {
      "text/plain": [
       "[DecisionTreeClassifier(class_weight=None, criterion='gini', max_depth=5,\n",
       "             max_features=None, max_leaf_nodes=None,\n",
       "             min_impurity_decrease=0.0, min_impurity_split=None,\n",
       "             min_samples_leaf=5, min_samples_split=2,\n",
       "             min_weight_fraction_leaf=0.0, presort=False, random_state=None,\n",
       "             splitter='best'),\n",
       " DecisionTreeClassifier(class_weight=None, criterion='gini', max_depth=5,\n",
       "             max_features=None, max_leaf_nodes=None,\n",
       "             min_impurity_decrease=0.0, min_impurity_split=None,\n",
       "             min_samples_leaf=5, min_samples_split=2,\n",
       "             min_weight_fraction_leaf=0.0, presort=False, random_state=None,\n",
       "             splitter='best'),\n",
       " DecisionTreeClassifier(class_weight=None, criterion='gini', max_depth=5,\n",
       "             max_features=None, max_leaf_nodes=None,\n",
       "             min_impurity_decrease=0.0, min_impurity_split=None,\n",
       "             min_samples_leaf=5, min_samples_split=2,\n",
       "             min_weight_fraction_leaf=0.0, presort=False, random_state=None,\n",
       "             splitter='best')]"
      ]
     },
     "execution_count": 65,
     "metadata": {},
     "output_type": "execute_result"
    }
   ],
   "source": [
    "q = queue.Queue()\n",
    "bagging(x, y)"
   ]
  },
  {
   "cell_type": "code",
   "execution_count": null,
   "metadata": {},
   "outputs": [],
   "source": []
  }
 ],
 "metadata": {
  "kernelspec": {
   "display_name": "Python 3",
   "language": "python",
   "name": "python3"
  },
  "language_info": {
   "codemirror_mode": {
    "name": "ipython",
    "version": 3
   },
   "file_extension": ".py",
   "mimetype": "text/x-python",
   "name": "python",
   "nbconvert_exporter": "python",
   "pygments_lexer": "ipython3",
   "version": "3.6.4"
  },
  "toc": {
   "base_numbering": 1,
   "nav_menu": {},
   "number_sections": true,
   "sideBar": true,
   "skip_h1_title": false,
   "title_cell": "Table of Contents",
   "title_sidebar": "Contents",
   "toc_cell": false,
   "toc_position": {},
   "toc_section_display": true,
   "toc_window_display": false
  }
 },
 "nbformat": 4,
 "nbformat_minor": 2
}
