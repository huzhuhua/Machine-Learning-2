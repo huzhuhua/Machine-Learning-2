{
 "cells": [
  {
   "cell_type": "code",
   "execution_count": 1,
   "metadata": {},
   "outputs": [
    {
     "name": "stderr",
     "output_type": "stream",
     "text": [
      "/usr/local/Cellar/python/3.6.4_4/Frameworks/Python.framework/Versions/3.6/lib/python3.6/importlib/_bootstrap.py:219: RuntimeWarning: compiletime version 3.5 of module 'tensorflow.python.framework.fast_tensor_util' does not match runtime version 3.6\n",
      "  return f(*args, **kwds)\n"
     ]
    }
   ],
   "source": [
    "import numpy as np\n",
    "import tensorflow as tf\n",
    "import matplotlib.pyplot as plt\n",
    "from sklearn import datasets\n",
    "%matplotlib inline"
   ]
  },
  {
   "cell_type": "code",
   "execution_count": 2,
   "metadata": {},
   "outputs": [
    {
     "name": "stdout",
     "output_type": "stream",
     "text": [
      "(359, 64) (359, 1)\n"
     ]
    }
   ],
   "source": [
    "digits = datasets.load_digits()\n",
    "data, target = data, targets = digits.data, digits.target\n",
    "data_ = []\n",
    "targets_ = []\n",
    "for i in range(len(targets)):\n",
    "    if targets[i] == 1 :\n",
    "        data_.append(data[i])\n",
    "        targets_.append(1)\n",
    "    if targets[i] == 2:\n",
    "        data_.append(data[i])\n",
    "        targets_.append(0)\n",
    "data = np.array(data_)\n",
    "m = data.shape[0]\n",
    "target = np.array(targets_).reshape(m, 1)\n",
    "print(data.shape, target.shape)\n",
    "train_data, train_label = data[:270, :], target[:270, :]\n",
    "test_data, test_label = data[270:, :], target[270:, :]"
   ]
  },
  {
   "cell_type": "code",
   "execution_count": 3,
   "metadata": {},
   "outputs": [],
   "source": [
    "x = tf.placeholder(tf.float32, [None, 64], name='input')\n",
    "y = tf.placeholder(tf.float32, [None, 1], name='true_label')\n",
    "layer_1 = tf.layers.dense(inputs=x, units=1)\n",
    "output = tf.exp(layer_1) / (1 + tf.exp(layer_1))\n",
    "loss = tf.reduce_sum(-tf.log(y * output + (1 - y) * (1 - output)), axis=0)\n",
    "train = tf.train.AdamOptimizer(0.001).minimize(loss)"
   ]
  },
  {
   "cell_type": "code",
   "execution_count": 4,
   "metadata": {},
   "outputs": [
    {
     "name": "stdout",
     "output_type": "stream",
     "text": [
      "0/1000 --> [ 315.59194946]\n",
      "200/1000 --> [ 24.84186172]\n",
      "400/1000 --> [ 9.07147503]\n",
      "600/1000 --> [ 4.62412357]\n",
      "800/1000 --> [ 2.8129425]\n",
      "1000/1000 --> [ 1.89839995]\n",
      "1200/1000 --> [ 1.37103832]\n",
      "1400/1000 --> [ 1.03796041]\n",
      "1600/1000 --> [ 0.81324404]\n",
      "1800/1000 --> [ 0.65390712]\n"
     ]
    }
   ],
   "source": [
    "sess = tf.Session()\n",
    "sess.run(tf.global_variables_initializer())\n",
    "ls = []\n",
    "for i in range(2000):\n",
    "    _, l = sess.run([train, loss], feed_dict={x: train_data, y:train_label})\n",
    "    ls.append(l)\n",
    "    if i % 200 == 0:\n",
    "        print(\"{}/{} --> {}\".format(i, 1000, l))"
   ]
  },
  {
   "cell_type": "code",
   "execution_count": 5,
   "metadata": {},
   "outputs": [
    {
     "name": "stdout",
     "output_type": "stream",
     "text": [
      "train accuracy:  1.0\n",
      "test accuracy:  0.977528\n"
     ]
    }
   ],
   "source": [
    "train_prob = sess.run(output, feed_dict={x: train_data})\n",
    "test_prob = sess.run(output, feed_dict={x: test_data})\n",
    "train_pred = np.round(train_prob)\n",
    "test_pred = np.round(test_prob)\n",
    "print(\"train accuracy: \", np.mean((train_pred==train_label).astype(np.float32)))\n",
    "print(\"test accuracy: \", np.mean((test_pred==test_label).astype(np.float32)))"
   ]
  }
 ],
 "metadata": {
  "kernelspec": {
   "display_name": "Python 3",
   "language": "python",
   "name": "python3"
  },
  "language_info": {
   "codemirror_mode": {
    "name": "ipython",
    "version": 3
   },
   "file_extension": ".py",
   "mimetype": "text/x-python",
   "name": "python",
   "nbconvert_exporter": "python",
   "pygments_lexer": "ipython3",
   "version": "3.6.4"
  },
  "toc": {
   "base_numbering": 1,
   "nav_menu": {},
   "number_sections": true,
   "sideBar": true,
   "skip_h1_title": false,
   "title_cell": "Table of Contents",
   "title_sidebar": "Contents",
   "toc_cell": false,
   "toc_position": {},
   "toc_section_display": true,
   "toc_window_display": false
  }
 },
 "nbformat": 4,
 "nbformat_minor": 2
}
